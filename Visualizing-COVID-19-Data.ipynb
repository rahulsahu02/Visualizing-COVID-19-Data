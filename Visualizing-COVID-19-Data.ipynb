{
 "cells": [
  {
   "cell_type": "markdown",
   "metadata": {},
   "source": [
    "# Coronavirus (COVID-19) Visualization & Prediction  \n",
    "Coronavirus is a family of viruses that are named after their spiky crown. The novel coronavirus, also known as SARS-CoV-2, is a contagious respiratory virus that first reported in Wuhan, China. On 2/11/2020, the World Health Organization designated the name COVID-19 for the disease caused by the novel coronavirus. This notebook aims at exploring COVID-19 through data analysis and projections. \n",
    "\n",
    "   Coronavirus Case Data is provided by <a href='https://github.com/CSSEGISandData/COVID-19'>Johns Hopkins University</a>\n",
    "   <br>Learn more from the <a href='https://www.who.int/emergencies/diseases/novel-coronavirus-2019'>World Health Organization</a>\n",
    "   <br>Learn more from the <a href='https://www.cdc.gov/coronavirus/2019-ncov'>Centers for Disease Control and Prevention</a>\n",
    "   <br>Check out map visualizations from  <a href='https://gisanddata.maps.arcgis.com/apps/opsdashboard/index.html#/bda7594740fd40299423467b48e9ecf6'>JHU CCSE Dashboard</a>\n",
    "   <br>Source code is also on <a href='https://github.com/therealcyberlord'>my Github</a>\n",
    "   \n",
    "   \n",
    "   ```Last update: 1/16/2023 7:41 PM ET. New Updates: Daily report data update for 1/16/23. time series data update for 1/15/23. ```\n",
    "\n",
    "\n",
    "   Thank you guys for all the support!\n",
    "   \n",
    "* <a href='#world_wide_graphs'>Exploring Global Coronavirus Cases</a>\n",
    "* <a href='#country_graphs'>Exploring Coronavirus Cases From Different Countries</a>\n",
    "* <a href='#prediction'>Worldwide Confirmed Cases Prediction</a>\n",
    "* <a href='#data_table'>Data Table</a>\n",
    "* <a href='#pie_charts'>Pie Charts</a>\n",
    "* <a href='#bar_charts'>Bar Charts</a>"
   ]
  },
  {
   "cell_type": "code",
   "execution_count": null,
   "metadata": {
    "_cell_guid": "b1076dfc-b9ad-4769-8c92-a6c4dae69d19",
    "_kg_hide-input": true,
    "_kg_hide-output": true,
    "_uuid": "8f2839f25d086af736a60e9eeb907d3b93b6e0e5",
    "execution": {
     "iopub.execute_input": "2023-01-17T00:42:30.803619Z",
     "iopub.status.busy": "2023-01-17T00:42:30.803209Z",
     "iopub.status.idle": "2023-01-17T00:42:33.743267Z",
     "shell.execute_reply": "2023-01-17T00:42:33.742164Z",
     "shell.execute_reply.started": "2023-01-17T00:42:30.80355Z"
    },
    "trusted": true
   },
   "outputs": [],
   "source": [
    "import numpy as np \n",
    "import matplotlib.pyplot as plt \n",
    "import matplotlib.colors as mcolors\n",
    "import pandas as pd \n",
    "import random\n",
    "import math\n",
    "import time\n",
    "from sklearn.linear_model import LinearRegression, BayesianRidge\n",
    "from sklearn.model_selection import RandomizedSearchCV, train_test_split\n",
    "from sklearn.preprocessing import PolynomialFeatures\n",
    "from sklearn.svm import SVR\n",
    "from sklearn.metrics import mean_squared_error, mean_absolute_error\n",
    "import datetime\n",
    "import operator \n",
    "%matplotlib inline\n",
    "import warnings\n",
    "\n",
    "plt.style.use('seaborn-poster')\n",
    "warnings.filterwarnings(\"ignore\")"
   ]
  },
  {
   "cell_type": "markdown",
   "metadata": {},
   "source": [
    "Import the data (make sure you update this on a daily basis)"
   ]
  },
  {
   "cell_type": "code",
   "execution_count": null,
   "metadata": {
    "_cell_guid": "",
    "_kg_hide-input": true,
    "_kg_hide-output": true,
    "_uuid": "",
    "execution": {
     "iopub.execute_input": "2023-01-17T00:42:47.006939Z",
     "iopub.status.busy": "2023-01-17T00:42:47.006576Z",
     "iopub.status.idle": "2023-01-17T00:42:47.85601Z",
     "shell.execute_reply": "2023-01-17T00:42:47.854851Z",
     "shell.execute_reply.started": "2023-01-17T00:42:47.006887Z"
    },
    "trusted": true
   },
   "outputs": [],
   "source": [
    "confirmed_df = pd.read_csv('https://raw.githubusercontent.com/CSSEGISandData/COVID-19/master/csse_covid_19_data/csse_covid_19_time_series/time_series_covid19_confirmed_global.csv')\n",
    "deaths_df = pd.read_csv('https://raw.githubusercontent.com/CSSEGISandData/COVID-19/master/csse_covid_19_data/csse_covid_19_time_series/time_series_covid19_deaths_global.csv')\n",
    "latest_data = pd.read_csv('https://raw.githubusercontent.com/CSSEGISandData/COVID-19/master/csse_covid_19_data/csse_covid_19_daily_reports/01-15-2023.csv')"
   ]
  },
  {
   "cell_type": "code",
   "execution_count": null,
   "metadata": {
    "_kg_hide-input": true,
    "_kg_hide-output": true,
    "execution": {
     "iopub.execute_input": "2023-01-17T00:42:49.555414Z",
     "iopub.status.busy": "2023-01-17T00:42:49.555056Z",
     "iopub.status.idle": "2023-01-17T00:42:49.593701Z",
     "shell.execute_reply": "2023-01-17T00:42:49.592549Z",
     "shell.execute_reply.started": "2023-01-17T00:42:49.555361Z"
    },
    "trusted": true
   },
   "outputs": [],
   "source": [
    "latest_data.head()"
   ]
  },
  {
   "cell_type": "code",
   "execution_count": null,
   "metadata": {
    "_kg_hide-input": true,
    "_kg_hide-output": true,
    "execution": {
     "iopub.execute_input": "2023-01-17T00:43:04.53318Z",
     "iopub.status.busy": "2023-01-17T00:43:04.532771Z",
     "iopub.status.idle": "2023-01-17T00:43:04.559091Z",
     "shell.execute_reply": "2023-01-17T00:43:04.557922Z",
     "shell.execute_reply.started": "2023-01-17T00:43:04.533112Z"
    },
    "trusted": true
   },
   "outputs": [],
   "source": [
    "confirmed_df.head()"
   ]
  },
  {
   "cell_type": "code",
   "execution_count": null,
   "metadata": {
    "_kg_hide-input": true,
    "_kg_hide-output": true,
    "execution": {
     "iopub.execute_input": "2023-01-17T00:43:08.570529Z",
     "iopub.status.busy": "2023-01-17T00:43:08.570147Z",
     "iopub.status.idle": "2023-01-17T00:43:08.575495Z",
     "shell.execute_reply": "2023-01-17T00:43:08.57445Z",
     "shell.execute_reply.started": "2023-01-17T00:43:08.570468Z"
    },
    "trusted": true
   },
   "outputs": [],
   "source": [
    "confirmed_cols = confirmed_df.keys()\n",
    "deaths_cols = deaths_df.keys()"
   ]
  },
  {
   "cell_type": "markdown",
   "metadata": {},
   "source": [
    "\n",
    "Get all the dates for the ongoing coronavirus pandemic "
   ]
  },
  {
   "cell_type": "code",
   "execution_count": null,
   "metadata": {
    "_kg_hide-input": true,
    "_kg_hide-output": true,
    "execution": {
     "iopub.execute_input": "2023-01-17T00:43:10.677241Z",
     "iopub.status.busy": "2023-01-17T00:43:10.676796Z",
     "iopub.status.idle": "2023-01-17T00:43:10.691548Z",
     "shell.execute_reply": "2023-01-17T00:43:10.690125Z",
     "shell.execute_reply.started": "2023-01-17T00:43:10.677172Z"
    },
    "trusted": true
   },
   "outputs": [],
   "source": [
    "confirmed = confirmed_df.loc[:, confirmed_cols[4]:]\n",
    "deaths = deaths_df.loc[:, deaths_cols[4]:]"
   ]
  },
  {
   "cell_type": "code",
   "execution_count": null,
   "metadata": {
    "execution": {
     "iopub.execute_input": "2023-01-17T00:43:21.20053Z",
     "iopub.status.busy": "2023-01-17T00:43:21.2001Z",
     "iopub.status.idle": "2023-01-17T00:43:21.208152Z",
     "shell.execute_reply": "2023-01-17T00:43:21.206912Z",
     "shell.execute_reply.started": "2023-01-17T00:43:21.20046Z"
    },
    "trusted": true
   },
   "outputs": [],
   "source": [
    "confirmed.keys()"
   ]
  },
  {
   "cell_type": "code",
   "execution_count": null,
   "metadata": {
    "_kg_hide-input": true,
    "_kg_hide-output": true,
    "execution": {
     "iopub.execute_input": "2023-01-17T00:43:23.701737Z",
     "iopub.status.busy": "2023-01-17T00:43:23.701386Z",
     "iopub.status.idle": "2023-01-17T00:43:24.094961Z",
     "shell.execute_reply": "2023-01-17T00:43:24.093714Z",
     "shell.execute_reply.started": "2023-01-17T00:43:23.701688Z"
    },
    "trusted": true
   },
   "outputs": [],
   "source": [
    "num_dates = len(confirmed.keys())\n",
    "ck = confirmed.keys()\n",
    "dk = deaths.keys()\n",
    "\n",
    "world_cases = []\n",
    "total_deaths = [] \n",
    "mortality_rate = []\n",
    "\n",
    "\n",
    "for i in range(num_dates):\n",
    "    confirmed_sum = confirmed[ck[i]].sum()\n",
    "    death_sum = deaths[dk[i]].sum()\n",
    "    \n",
    "    world_cases.append(confirmed_sum)\n",
    "    total_deaths.append(death_sum)\n",
    "    \n",
    "    # calculate rates\n",
    "    mortality_rate.append(death_sum/confirmed_sum)"
   ]
  },
  {
   "cell_type": "markdown",
   "metadata": {},
   "source": [
    "Getting daily increases and moving averages"
   ]
  },
  {
   "cell_type": "code",
   "execution_count": null,
   "metadata": {
    "_kg_hide-input": true,
    "_kg_hide-output": true,
    "execution": {
     "iopub.execute_input": "2023-01-17T00:43:27.805733Z",
     "iopub.status.busy": "2023-01-17T00:43:27.805406Z",
     "iopub.status.idle": "2023-01-17T00:43:27.894537Z",
     "shell.execute_reply": "2023-01-17T00:43:27.893548Z",
     "shell.execute_reply.started": "2023-01-17T00:43:27.805693Z"
    },
    "trusted": true
   },
   "outputs": [],
   "source": [
    "def daily_increase(data):\n",
    "    d = [] \n",
    "    for i in range(len(data)):\n",
    "        if i == 0:\n",
    "            d.append(data[0])\n",
    "        else:\n",
    "            d.append(data[i]-data[i-1])\n",
    "    return d \n",
    "\n",
    "def moving_average(data, window_size):\n",
    "    moving_average = []\n",
    "    for i in range(len(data)):\n",
    "        if i + window_size < len(data):\n",
    "            moving_average.append(np.mean(data[i:i+window_size]))\n",
    "        else:\n",
    "            moving_average.append(np.mean(data[i:len(data)]))\n",
    "    return moving_average\n",
    "\n",
    "# window size\n",
    "window = 7\n",
    "\n",
    "# confirmed cases\n",
    "world_daily_increase = daily_increase(world_cases)\n",
    "world_confirmed_avg= moving_average(world_cases, window)\n",
    "world_daily_increase_avg = moving_average(world_daily_increase, window)\n",
    "\n",
    "# deaths\n",
    "world_daily_death = daily_increase(total_deaths)\n",
    "world_death_avg = moving_average(total_deaths, window)\n",
    "world_daily_death_avg = moving_average(world_daily_death, window)"
   ]
  },
  {
   "cell_type": "code",
   "execution_count": null,
   "metadata": {
    "_kg_hide-input": true,
    "_kg_hide-output": true,
    "execution": {
     "iopub.execute_input": "2023-01-17T00:43:29.933697Z",
     "iopub.status.busy": "2023-01-17T00:43:29.933146Z",
     "iopub.status.idle": "2023-01-17T00:43:29.940992Z",
     "shell.execute_reply": "2023-01-17T00:43:29.940197Z",
     "shell.execute_reply.started": "2023-01-17T00:43:29.933627Z"
    },
    "trusted": true
   },
   "outputs": [],
   "source": [
    "days_since_1_22 = np.array([i for i in range(len(ck))]).reshape(-1, 1)\n",
    "world_cases = np.array(world_cases).reshape(-1, 1)\n",
    "total_deaths = np.array(total_deaths).reshape(-1, 1)"
   ]
  },
  {
   "cell_type": "markdown",
   "metadata": {},
   "source": [
    "Future forcasting"
   ]
  },
  {
   "cell_type": "code",
   "execution_count": null,
   "metadata": {
    "_kg_hide-input": true,
    "_kg_hide-output": true,
    "execution": {
     "iopub.execute_input": "2023-01-17T00:43:32.912691Z",
     "iopub.status.busy": "2023-01-17T00:43:32.911931Z",
     "iopub.status.idle": "2023-01-17T00:43:32.920213Z",
     "shell.execute_reply": "2023-01-17T00:43:32.919181Z",
     "shell.execute_reply.started": "2023-01-17T00:43:32.912618Z"
    },
    "trusted": true
   },
   "outputs": [],
   "source": [
    "days_in_future = 10\n",
    "future_forcast = np.array([i for i in range(len(ck)+days_in_future)]).reshape(-1, 1)\n",
    "adjusted_dates = future_forcast[:-10]"
   ]
  },
  {
   "cell_type": "markdown",
   "metadata": {},
   "source": [
    "Convert integer into datetime for better visualization"
   ]
  },
  {
   "cell_type": "code",
   "execution_count": null,
   "metadata": {
    "_kg_hide-input": true,
    "_kg_hide-output": true,
    "execution": {
     "iopub.execute_input": "2023-01-17T00:43:34.525744Z",
     "iopub.status.busy": "2023-01-17T00:43:34.525083Z",
     "iopub.status.idle": "2023-01-17T00:43:34.53669Z",
     "shell.execute_reply": "2023-01-17T00:43:34.535591Z",
     "shell.execute_reply.started": "2023-01-17T00:43:34.525689Z"
    },
    "trusted": true
   },
   "outputs": [],
   "source": [
    "start = '1/22/2020'\n",
    "start_date = datetime.datetime.strptime(start, '%m/%d/%Y')\n",
    "future_forcast_dates = []\n",
    "for i in range(len(future_forcast)):\n",
    "    future_forcast_dates.append((start_date + datetime.timedelta(days=i)).strftime('%m/%d/%Y'))"
   ]
  },
  {
   "cell_type": "markdown",
   "metadata": {},
   "source": [
    "We are using data from 8/1/2022 to present for the prediction model"
   ]
  },
  {
   "cell_type": "code",
   "execution_count": null,
   "metadata": {
    "_kg_hide-input": true,
    "_kg_hide-output": true,
    "execution": {
     "iopub.execute_input": "2023-01-17T00:43:36.489569Z",
     "iopub.status.busy": "2023-01-17T00:43:36.489229Z",
     "iopub.status.idle": "2023-01-17T00:43:36.495566Z",
     "shell.execute_reply": "2023-01-17T00:43:36.494558Z",
     "shell.execute_reply.started": "2023-01-17T00:43:36.489519Z"
    },
    "trusted": true
   },
   "outputs": [],
   "source": [
    "# slightly modify the data to fit the model better (regression models cannot pick the pattern), we are using data from 8/1/22 and onwards for the prediction modeling \n",
    "days_to_skip = 922\n",
    "X_train_confirmed, X_test_confirmed, y_train_confirmed, y_test_confirmed = train_test_split(days_since_1_22[days_to_skip:], world_cases[days_to_skip:], test_size=0.07, shuffle=False) "
   ]
  },
  {
   "cell_type": "markdown",
   "metadata": {},
   "source": [
    "Model for predicting # of confirmed cases. I am using support vector machine, bayesian ridge , and linear regression in this example. We will show the results in the later section. "
   ]
  },
  {
   "cell_type": "code",
   "execution_count": null,
   "metadata": {
    "_kg_hide-input": true,
    "_kg_hide-output": true,
    "execution": {
     "iopub.execute_input": "2023-01-13T16:15:25.172422Z",
     "iopub.status.busy": "2023-01-13T16:15:25.172078Z",
     "iopub.status.idle": "2023-01-13T16:15:25.185597Z",
     "shell.execute_reply": "2023-01-13T16:15:25.184257Z",
     "shell.execute_reply.started": "2023-01-13T16:15:25.172337Z"
    },
    "trusted": true
   },
   "outputs": [],
   "source": [
    "# # use this to find the optimal parameters for SVR\n",
    "# c = [0.01, 0.1, 1]\n",
    "# gamma = [0.01, 0.1, 1]\n",
    "# epsilon = [0.01, 0.1, 1]\n",
    "# shrinking = [True, False]\n",
    "\n",
    "# svm_grid = {'C': c, 'gamma' : gamma, 'epsilon': epsilon, 'shrinking' : shrinking}\n",
    "\n",
    "# svm = SVR(kernel='poly', degree=3)\n",
    "# svm_search = RandomizedSearchCV(svm, svm_grid, scoring='neg_mean_squared_error', cv=3, return_train_score=True, n_jobs=-1, n_iter=30, verbose=1)\n",
    "# svm_search.fit(X_train_confirmed, y_train_confirmed)"
   ]
  },
  {
   "cell_type": "code",
   "execution_count": null,
   "metadata": {
    "_kg_hide-input": true,
    "_kg_hide-output": true,
    "execution": {
     "iopub.execute_input": "2023-01-13T16:15:25.187489Z",
     "iopub.status.busy": "2023-01-13T16:15:25.1872Z",
     "iopub.status.idle": "2023-01-13T16:15:25.203619Z",
     "shell.execute_reply": "2023-01-13T16:15:25.202593Z",
     "shell.execute_reply.started": "2023-01-13T16:15:25.187439Z"
    },
    "trusted": true
   },
   "outputs": [],
   "source": [
    "# svm_search.best_params_"
   ]
  },
  {
   "cell_type": "code",
   "execution_count": null,
   "metadata": {
    "_kg_hide-input": true,
    "_kg_hide-output": true,
    "execution": {
     "iopub.execute_input": "2023-01-17T00:43:39.287306Z",
     "iopub.status.busy": "2023-01-17T00:43:39.286919Z",
     "iopub.status.idle": "2023-01-17T00:43:39.471993Z",
     "shell.execute_reply": "2023-01-17T00:43:39.47079Z",
     "shell.execute_reply.started": "2023-01-17T00:43:39.287238Z"
    },
    "trusted": true
   },
   "outputs": [],
   "source": [
    "# svm_confirmed = svm_search.best_estimator_\n",
    "svm_confirmed = SVR(shrinking=True, kernel='poly',gamma=0.01, epsilon=1,degree=3, C=0.1)\n",
    "svm_confirmed.fit(X_train_confirmed, y_train_confirmed)\n",
    "svm_pred = svm_confirmed.predict(future_forcast)"
   ]
  },
  {
   "cell_type": "code",
   "execution_count": null,
   "metadata": {
    "_kg_hide-input": true,
    "_kg_hide-output": true,
    "execution": {
     "iopub.execute_input": "2023-01-17T00:43:41.131702Z",
     "iopub.status.busy": "2023-01-17T00:43:41.131326Z",
     "iopub.status.idle": "2023-01-17T00:43:41.537378Z",
     "shell.execute_reply": "2023-01-17T00:43:41.536432Z",
     "shell.execute_reply.started": "2023-01-17T00:43:41.13165Z"
    },
    "trusted": true
   },
   "outputs": [],
   "source": [
    "# check against testing data\n",
    "svm_test_pred = svm_confirmed.predict(X_test_confirmed)\n",
    "plt.plot(y_test_confirmed)\n",
    "plt.plot(svm_test_pred)\n",
    "plt.legend(['Test Data', 'SVM Predictions'])\n",
    "print('MAE:', mean_absolute_error(svm_test_pred, y_test_confirmed))\n",
    "print('MSE:',mean_squared_error(svm_test_pred, y_test_confirmed))"
   ]
  },
  {
   "cell_type": "code",
   "execution_count": null,
   "metadata": {
    "_kg_hide-input": true,
    "_kg_hide-output": true,
    "execution": {
     "iopub.execute_input": "2023-01-17T00:43:45.249387Z",
     "iopub.status.busy": "2023-01-17T00:43:45.249035Z",
     "iopub.status.idle": "2023-01-17T00:43:45.259297Z",
     "shell.execute_reply": "2023-01-17T00:43:45.258102Z",
     "shell.execute_reply.started": "2023-01-17T00:43:45.249334Z"
    },
    "trusted": true
   },
   "outputs": [],
   "source": [
    "# transform our data for polynomial regression\n",
    "poly = PolynomialFeatures(degree=3)\n",
    "poly_X_train_confirmed = poly.fit_transform(X_train_confirmed)\n",
    "poly_X_test_confirmed = poly.fit_transform(X_test_confirmed)\n",
    "poly_future_forcast = poly.fit_transform(future_forcast)\n",
    "\n",
    "bayesian_poly = PolynomialFeatures(degree=3)\n",
    "bayesian_poly_X_train_confirmed = bayesian_poly.fit_transform(X_train_confirmed)\n",
    "bayesian_poly_X_test_confirmed = bayesian_poly.fit_transform(X_test_confirmed)\n",
    "bayesian_poly_future_forcast = bayesian_poly.fit_transform(future_forcast)"
   ]
  },
  {
   "cell_type": "code",
   "execution_count": null,
   "metadata": {
    "_kg_hide-input": true,
    "_kg_hide-output": true,
    "execution": {
     "iopub.execute_input": "2023-01-17T00:43:47.359974Z",
     "iopub.status.busy": "2023-01-17T00:43:47.359605Z",
     "iopub.status.idle": "2023-01-17T00:43:47.405459Z",
     "shell.execute_reply": "2023-01-17T00:43:47.404394Z",
     "shell.execute_reply.started": "2023-01-17T00:43:47.35992Z"
    },
    "trusted": true
   },
   "outputs": [],
   "source": [
    "# polynomial regression\n",
    "linear_model = LinearRegression(normalize=True, fit_intercept=True)\n",
    "linear_model.fit(poly_X_train_confirmed, y_train_confirmed)\n",
    "test_linear_pred = linear_model.predict(poly_X_test_confirmed)\n",
    "linear_pred = linear_model.predict(poly_future_forcast)\n",
    "print('MAE:', mean_absolute_error(test_linear_pred, y_test_confirmed))\n",
    "print('MSE:',mean_squared_error(test_linear_pred, y_test_confirmed))"
   ]
  },
  {
   "cell_type": "code",
   "execution_count": null,
   "metadata": {
    "_kg_hide-input": true,
    "_kg_hide-output": true,
    "execution": {
     "iopub.execute_input": "2023-01-17T00:43:49.363788Z",
     "iopub.status.busy": "2023-01-17T00:43:49.363283Z",
     "iopub.status.idle": "2023-01-17T00:43:49.371308Z",
     "shell.execute_reply": "2023-01-17T00:43:49.370074Z",
     "shell.execute_reply.started": "2023-01-17T00:43:49.363739Z"
    },
    "trusted": true
   },
   "outputs": [],
   "source": [
    "print(linear_model.coef_)"
   ]
  },
  {
   "cell_type": "code",
   "execution_count": null,
   "metadata": {
    "_kg_hide-input": true,
    "_kg_hide-output": true,
    "execution": {
     "iopub.execute_input": "2023-01-17T00:43:51.464152Z",
     "iopub.status.busy": "2023-01-17T00:43:51.463423Z",
     "iopub.status.idle": "2023-01-17T00:43:51.83966Z",
     "shell.execute_reply": "2023-01-17T00:43:51.838635Z",
     "shell.execute_reply.started": "2023-01-17T00:43:51.464091Z"
    },
    "trusted": true
   },
   "outputs": [],
   "source": [
    "plt.plot(y_test_confirmed)\n",
    "plt.plot(test_linear_pred)\n",
    "plt.legend(['Test Data', 'Polynomial Regression Predictions'])"
   ]
  },
  {
   "cell_type": "code",
   "execution_count": null,
   "metadata": {
    "_kg_hide-input": true,
    "_kg_hide-output": true,
    "execution": {
     "iopub.execute_input": "2023-01-17T00:43:54.527917Z",
     "iopub.status.busy": "2023-01-17T00:43:54.527235Z",
     "iopub.status.idle": "2023-01-17T00:43:56.876193Z",
     "shell.execute_reply": "2023-01-17T00:43:56.875145Z",
     "shell.execute_reply.started": "2023-01-17T00:43:54.527853Z"
    },
    "trusted": true
   },
   "outputs": [],
   "source": [
    "# bayesian ridge polynomial regression\n",
    "tol = [1e-6, 1e-5, 1e-4, 1e-3, 1e-2]\n",
    "alpha_1 = [1e-7, 1e-6, 1e-5, 1e-4, 1e-3]\n",
    "alpha_2 = [1e-7, 1e-6, 1e-5, 1e-4, 1e-3]\n",
    "lambda_1 = [1e-7, 1e-6, 1e-5, 1e-4, 1e-3]\n",
    "lambda_2 = [1e-7, 1e-6, 1e-5, 1e-4, 1e-3]\n",
    "normalize = [True, False]\n",
    "\n",
    "bayesian_grid = {'tol': tol, 'alpha_1': alpha_1, 'alpha_2' : alpha_2, 'lambda_1': lambda_1, 'lambda_2' : lambda_2, \n",
    "                 'normalize' : normalize}\n",
    "\n",
    "bayesian = BayesianRidge(fit_intercept=True)\n",
    "bayesian_search = RandomizedSearchCV(bayesian, bayesian_grid, scoring='neg_mean_squared_error', cv=3, return_train_score=True, n_jobs=-1, n_iter=40, verbose=1)\n",
    "bayesian_search.fit(bayesian_poly_X_train_confirmed, y_train_confirmed)"
   ]
  },
  {
   "cell_type": "code",
   "execution_count": null,
   "metadata": {
    "_kg_hide-input": true,
    "_kg_hide-output": true,
    "execution": {
     "iopub.execute_input": "2023-01-17T00:43:59.073664Z",
     "iopub.status.busy": "2023-01-17T00:43:59.073247Z",
     "iopub.status.idle": "2023-01-17T00:43:59.081555Z",
     "shell.execute_reply": "2023-01-17T00:43:59.08032Z",
     "shell.execute_reply.started": "2023-01-17T00:43:59.073588Z"
    },
    "trusted": true
   },
   "outputs": [],
   "source": [
    "bayesian_search.best_params_"
   ]
  },
  {
   "cell_type": "code",
   "execution_count": null,
   "metadata": {
    "_kg_hide-input": true,
    "_kg_hide-output": true,
    "execution": {
     "iopub.execute_input": "2023-01-17T00:44:00.774821Z",
     "iopub.status.busy": "2023-01-17T00:44:00.774461Z",
     "iopub.status.idle": "2023-01-17T00:44:00.782864Z",
     "shell.execute_reply": "2023-01-17T00:44:00.782023Z",
     "shell.execute_reply.started": "2023-01-17T00:44:00.774756Z"
    },
    "trusted": true
   },
   "outputs": [],
   "source": [
    "bayesian_confirmed = bayesian_search.best_estimator_\n",
    "test_bayesian_pred = bayesian_confirmed.predict(bayesian_poly_X_test_confirmed)\n",
    "bayesian_pred = bayesian_confirmed.predict(bayesian_poly_future_forcast)\n",
    "print('MAE:', mean_absolute_error(test_bayesian_pred, y_test_confirmed))\n",
    "print('MSE:',mean_squared_error(test_bayesian_pred, y_test_confirmed))"
   ]
  },
  {
   "cell_type": "code",
   "execution_count": null,
   "metadata": {
    "_kg_hide-input": true,
    "_kg_hide-output": true,
    "execution": {
     "iopub.execute_input": "2023-01-17T00:44:02.739643Z",
     "iopub.status.busy": "2023-01-17T00:44:02.739202Z",
     "iopub.status.idle": "2023-01-17T00:44:03.141372Z",
     "shell.execute_reply": "2023-01-17T00:44:03.140337Z",
     "shell.execute_reply.started": "2023-01-17T00:44:02.739583Z"
    },
    "trusted": true
   },
   "outputs": [],
   "source": [
    "plt.plot(y_test_confirmed)\n",
    "plt.plot(test_bayesian_pred)\n",
    "plt.legend(['Test Data', 'Bayesian Ridge Polynomial Predictions'])"
   ]
  },
  {
   "cell_type": "markdown",
   "metadata": {},
   "source": [
    "# Worldwide Overview \n",
    "Graphing the number of confirmed cases, deaths, and mortality rate (CFR). This gives us a big picture of the ongoing pandemic. \n",
    " <a id='world_wide_graphs'></a>"
   ]
  },
  {
   "cell_type": "code",
   "execution_count": null,
   "metadata": {
    "_kg_hide-input": true,
    "_kg_hide-output": true,
    "execution": {
     "iopub.execute_input": "2023-01-17T00:44:06.243714Z",
     "iopub.status.busy": "2023-01-17T00:44:06.243039Z",
     "iopub.status.idle": "2023-01-17T00:44:06.249365Z",
     "shell.execute_reply": "2023-01-17T00:44:06.248352Z",
     "shell.execute_reply.started": "2023-01-17T00:44:06.243652Z"
    },
    "trusted": true
   },
   "outputs": [],
   "source": [
    "# helper method for flattening the data, so it can be displayed on a bar graph \n",
    "def flatten(arr):\n",
    "    a = [] \n",
    "    arr = arr.tolist()\n",
    "    for i in arr:\n",
    "        a.append(i[0])\n",
    "    return a"
   ]
  },
  {
   "cell_type": "code",
   "execution_count": null,
   "metadata": {
    "_kg_hide-input": true,
    "_kg_hide-output": false,
    "execution": {
     "iopub.execute_input": "2023-01-17T00:44:07.771978Z",
     "iopub.status.busy": "2023-01-17T00:44:07.771277Z",
     "iopub.status.idle": "2023-01-17T00:44:08.664001Z",
     "shell.execute_reply": "2023-01-17T00:44:08.662972Z",
     "shell.execute_reply.started": "2023-01-17T00:44:07.771921Z"
    },
    "trusted": true
   },
   "outputs": [],
   "source": [
    "adjusted_dates = adjusted_dates.reshape(1, -1)[0]\n",
    "plt.figure(figsize=(16, 8))\n",
    "plt.plot(adjusted_dates, world_cases)\n",
    "plt.plot(adjusted_dates, world_confirmed_avg, linestyle='dashed', color='orange')\n",
    "plt.title('# of Coronavirus Cases Over Time', size=30)\n",
    "plt.xlabel('Days Since 1/22/2020', size=30)\n",
    "plt.ylabel('# of Cases', size=30)\n",
    "plt.legend(['Worldwide Coronavirus Cases', 'Moving Average {} Days'.format(window)], prop={'size': 20})\n",
    "plt.xticks(size=20)\n",
    "plt.yticks(size=20)\n",
    "plt.show()\n",
    "\n",
    "plt.figure(figsize=(16, 8))\n",
    "plt.plot(adjusted_dates, total_deaths)\n",
    "plt.plot(adjusted_dates, world_death_avg, linestyle='dashed', color='orange')\n",
    "plt.title('# of Coronavirus Deaths Over Time', size=30)\n",
    "plt.xlabel('Days Since 1/22/2020', size=30)\n",
    "plt.ylabel('# of Cases', size=30)\n",
    "plt.legend(['Worldwide Coronavirus Deaths', 'Moving Average {} Days'.format(window)], prop={'size': 20})\n",
    "plt.xticks(size=20)\n",
    "plt.yticks(size=20)\n",
    "plt.show()"
   ]
  },
  {
   "cell_type": "code",
   "execution_count": null,
   "metadata": {
    "_kg_hide-input": true,
    "execution": {
     "iopub.execute_input": "2023-01-17T00:44:14.409744Z",
     "iopub.status.busy": "2023-01-17T00:44:14.409338Z",
     "iopub.status.idle": "2023-01-17T00:44:21.406897Z",
     "shell.execute_reply": "2023-01-17T00:44:21.405697Z",
     "shell.execute_reply.started": "2023-01-17T00:44:14.409686Z"
    },
    "trusted": true
   },
   "outputs": [],
   "source": [
    "plt.figure(figsize=(16, 10))\n",
    "plt.bar(adjusted_dates, world_daily_increase)\n",
    "plt.plot(adjusted_dates, world_daily_increase_avg, color='orange', linestyle='dashed')\n",
    "plt.title('World Daily Increases in Confirmed Cases', size=30)\n",
    "plt.xlabel('Days Since 1/22/2020', size=30)\n",
    "plt.ylabel('# of Cases', size=30)\n",
    "plt.legend(['Moving Average {} Days'.format(window), 'World Daily Increase in COVID-19 Cases'], prop={'size': 20})\n",
    "plt.xticks(size=20)\n",
    "plt.yticks(size=20)\n",
    "plt.show()\n",
    "\n",
    "plt.figure(figsize=(16, 10))\n",
    "plt.bar(adjusted_dates, world_daily_death)\n",
    "plt.plot(adjusted_dates, world_daily_death_avg, color='orange', linestyle='dashed')\n",
    "plt.title('World Daily Increases in Confirmed Deaths', size=30)\n",
    "plt.xlabel('Days Since 1/22/2020', size=30)\n",
    "plt.ylabel('# of Cases', size=30)\n",
    "plt.legend(['Moving Average {} Days'.format(window), 'World Daily Increase in COVID-19 Deaths'], prop={'size': 20})\n",
    "plt.xticks(size=20)\n",
    "plt.yticks(size=20)\n",
    "plt.show()\n",
    "\n",
    "# plt.figure(figsize=(16, 10))\n",
    "# plt.bar(adjusted_dates, world_daily_recovery)\n",
    "# plt.plot(adjusted_dates, world_daily_recovery_avg, color='orange', linestyle='dashed')\n",
    "# plt.title('World Daily Increases in Confirmed Recoveries', size=30)\n",
    "# plt.xlabel('Days Since 1/22/2020', size=30)\n",
    "# plt.ylabel('# of Cases', size=30)\n",
    "# plt.legend(['Moving Average {} Days'.format(window), 'World Daily Increase in COVID-19 Recoveries'], prop={'size': 20})\n",
    "# plt.xticks(size=20)\n",
    "# plt.yticks(size=20)\n",
    "# plt.show()"
   ]
  },
  {
   "cell_type": "code",
   "execution_count": null,
   "metadata": {
    "_kg_hide-input": true,
    "execution": {
     "iopub.execute_input": "2023-01-17T00:44:29.061304Z",
     "iopub.status.busy": "2023-01-17T00:44:29.060483Z",
     "iopub.status.idle": "2023-01-17T00:44:29.824078Z",
     "shell.execute_reply": "2023-01-17T00:44:29.823123Z",
     "shell.execute_reply.started": "2023-01-17T00:44:29.060995Z"
    },
    "trusted": true
   },
   "outputs": [],
   "source": [
    "plt.figure(figsize=(16, 10))\n",
    "plt.plot(adjusted_dates, np.log10(world_cases))\n",
    "plt.title('Log of # of Coronavirus Cases Over Time', size=30)\n",
    "plt.xlabel('Days Since 1/22/2020', size=30)\n",
    "plt.ylabel('# of Cases', size=30)\n",
    "plt.xticks(size=20)\n",
    "plt.yticks(size=20)\n",
    "plt.show()\n",
    "\n",
    "plt.figure(figsize=(16, 10))\n",
    "plt.plot(adjusted_dates, np.log10(total_deaths))\n",
    "plt.title('Log of # of Coronavirus Deaths Over Time', size=30)\n",
    "plt.xlabel('Days Since 1/22/2020', size=30)\n",
    "plt.ylabel('# of Cases', size=30)\n",
    "plt.xticks(size=20)\n",
    "plt.yticks(size=20)\n",
    "plt.show()\n",
    "\n",
    "# plt.figure(figsize=(16, 10))\n",
    "# plt.plot(adjusted_dates, np.log10(total_recovered))\n",
    "# plt.title('Log of # of Coronavirus Recoveries Over Time', size=30)\n",
    "# plt.xlabel('Days Since 1/22/2020', size=30)\n",
    "# plt.ylabel('# of Cases', size=30)\n",
    "# plt.xticks(size=20)\n",
    "# plt.yticks(size=20)\n",
    "# plt.show()"
   ]
  },
  {
   "cell_type": "code",
   "execution_count": null,
   "metadata": {
    "_kg_hide-input": true,
    "_kg_hide-output": true,
    "execution": {
     "iopub.execute_input": "2023-01-13T16:15:34.972615Z",
     "iopub.status.busy": "2023-01-13T16:15:34.972394Z",
     "iopub.status.idle": "2023-01-13T16:15:34.992328Z",
     "shell.execute_reply": "2023-01-13T16:15:34.991633Z",
     "shell.execute_reply.started": "2023-01-13T16:15:34.97258Z"
    },
    "trusted": true
   },
   "outputs": [],
   "source": [
    "def country_plot(x, y1, y2, y3, country):\n",
    "    # window is set as 14 in in the beginning of the notebook \n",
    "    confirmed_avg = moving_average(y1, window)\n",
    "    confirmed_increase_avg = moving_average(y2, window)\n",
    "    death_increase_avg = moving_average(y3, window)\n",
    "    SIZE = (12, 8)\n",
    "    \n",
    "    plt.figure(figsize=SIZE)\n",
    "    plt.plot(x, y1)\n",
    "    plt.plot(x, confirmed_avg, color='red', linestyle='dashed')\n",
    "    plt.legend(['{} Confirmed Cases'.format(country), 'Moving Average {} Days'.format(window)], prop={'size': 20})\n",
    "    plt.title('{} Confirmed Cases'.format(country), size=30)\n",
    "    plt.xlabel('Days Since 1/22/2020', size=30)\n",
    "    plt.ylabel('# of Cases', size=30)\n",
    "    plt.xticks(size=20)\n",
    "    plt.yticks(size=20)\n",
    "    plt.show()\n",
    "\n",
    "    plt.figure(figsize=SIZE)\n",
    "    plt.bar(x, y2)\n",
    "    plt.plot(x, confirmed_increase_avg, color='red', linestyle='dashed')\n",
    "    plt.legend(['Moving Average {} Days'.format(window), '{} Daily Increase in Confirmed Cases'.format(country)], prop={'size': 20})\n",
    "    plt.title('{} Daily Increases in Confirmed Cases'.format(country), size=30)\n",
    "    plt.xlabel('Days Since 1/22/2020', size=30)\n",
    "    plt.ylabel('# of Cases', size=30)\n",
    "    plt.xticks(size=20)\n",
    "    plt.yticks(size=20)\n",
    "    plt.show()\n",
    "\n",
    "    plt.figure(figsize=SIZE)\n",
    "    plt.bar(x, y3)\n",
    "    plt.plot(x, death_increase_avg, color='red', linestyle='dashed')\n",
    "    plt.legend(['Moving Average {} Days'.format(window), '{} Daily Increase in Confirmed Deaths'.format(country)], prop={'size': 20})\n",
    "    plt.title('{} Daily Increases in Deaths'.format(country), size=30)\n",
    "    plt.xlabel('Days Since 1/22/2020', size=30)\n",
    "    plt.ylabel('# of Cases', size=30)\n",
    "    plt.xticks(size=20)\n",
    "    plt.yticks(size=20)\n",
    "    plt.show()\n",
    "\n",
    "\n",
    "# helper function for getting a country's total covid cases and deaths    \n",
    "def get_country_info(country_name):\n",
    "    country_cases = []\n",
    "    country_deaths = []\n",
    "    \n",
    "    for i in range(num_dates):\n",
    "        country_cases.append(confirmed_df[confirmed_df['Country/Region']==country_name][ck[i]].sum())\n",
    "        country_deaths.append(deaths_df[deaths_df['Country/Region']==country_name][dk[i]].sum())\n",
    "    return (country_cases, country_deaths)\n",
    "    \n",
    "    \n",
    "def country_visualizations(country_name):\n",
    "    country_info = get_country_info(country_name)\n",
    "    country_cases = country_info[0]\n",
    "    country_deaths = country_info[1]\n",
    "    \n",
    "    country_daily_increase = daily_increase(country_cases)\n",
    "    country_daily_death = daily_increase(country_deaths)\n",
    "    \n",
    "    country_plot(adjusted_dates, country_cases, country_daily_increase, country_daily_death, country_name)\n",
    "    "
   ]
  },
  {
   "cell_type": "markdown",
   "metadata": {},
   "source": [
    "# Country Specific Graphs\n",
    "Unlike the previous section, we are taking a look at specific countries. This allows us to examine covid at a more localized level. Feel free to change/edit this list to visulize the countries of your choice. \n",
    "<a id='country_graphs'></a>"
   ]
  },
  {
   "cell_type": "code",
   "execution_count": null,
   "metadata": {
    "_kg_hide-input": true,
    "execution": {
     "iopub.execute_input": "2023-01-13T16:15:34.993745Z",
     "iopub.status.busy": "2023-01-13T16:15:34.993432Z",
     "iopub.status.idle": "2023-01-13T16:17:07.045106Z",
     "shell.execute_reply": "2023-01-13T16:17:07.043548Z",
     "shell.execute_reply.started": "2023-01-13T16:15:34.993709Z"
    },
    "trusted": true
   },
   "outputs": [],
   "source": [
    "countries = ['US', 'China', 'India', 'Brazil', 'France', 'Germany', 'United Kingdom', 'Italy', 'Korea, South',\n",
    "             'Russia', 'Turkey']\n",
    "\n",
    "for country in countries:\n",
    "    country_visualizations(country)"
   ]
  },
  {
   "cell_type": "code",
   "execution_count": null,
   "metadata": {
    "_kg_hide-input": true,
    "execution": {
     "iopub.execute_input": "2023-01-13T16:17:07.052706Z",
     "iopub.status.busy": "2023-01-13T16:17:07.052416Z",
     "iopub.status.idle": "2023-01-13T16:17:33.061111Z",
     "shell.execute_reply": "2023-01-13T16:17:33.060159Z",
     "shell.execute_reply.started": "2023-01-13T16:17:07.05266Z"
    },
    "trusted": true
   },
   "outputs": [],
   "source": [
    "# Country Comparison\n",
    "# removed redundant code\n",
    "\n",
    "compare_countries = ['India', 'US', 'Brazil', 'Russia', 'United Kingdom', 'France'] \n",
    "graph_name = ['Coronavirus Confirmed Cases', 'Coronavirus Confirmed Deaths']\n",
    "\n",
    "for num in range(2):\n",
    "    plt.figure(figsize=(12, 8))\n",
    "    for country in compare_countries:\n",
    "        plt.plot(get_country_info(country)[num])\n",
    "    plt.legend(compare_countries, prop={'size': 20})\n",
    "    plt.xlabel('Days since 1/22/2020', size=30)\n",
    "    plt.ylabel('# of Cases', size=30)\n",
    "    plt.title(graph_name[num], size=30)\n",
    "    plt.xticks(size=20)\n",
    "    plt.yticks(size=20)\n",
    "    plt.show()"
   ]
  },
  {
   "cell_type": "code",
   "execution_count": null,
   "metadata": {
    "_kg_hide-input": true,
    "_kg_hide-output": true,
    "execution": {
     "iopub.execute_input": "2023-01-13T16:17:33.063924Z",
     "iopub.status.busy": "2023-01-13T16:17:33.063482Z",
     "iopub.status.idle": "2023-01-13T16:17:33.072766Z",
     "shell.execute_reply": "2023-01-13T16:17:33.071105Z",
     "shell.execute_reply.started": "2023-01-13T16:17:33.06387Z"
    },
    "trusted": true
   },
   "outputs": [],
   "source": [
    "def plot_predictions(x, y, pred, algo_name, color):\n",
    "    plt.figure(figsize=(12, 8))\n",
    "    plt.plot(x, y)\n",
    "    plt.plot(future_forcast, pred, linestyle='dashed', color=color)\n",
    "    plt.title('Worldwide Coronavirus Cases Over Time', size=30)\n",
    "    plt.xlabel('Days Since 1/22/2020', size=30)\n",
    "    plt.ylabel('# of Cases', size=30)\n",
    "    plt.legend(['Confirmed Cases', algo_name], prop={'size': 20})\n",
    "    plt.xticks(size=20)\n",
    "    plt.yticks(size=20)\n",
    "    plt.show()"
   ]
  },
  {
   "cell_type": "markdown",
   "metadata": {},
   "source": [
    "# Predictions for confirmed coronavirus cases worldwide\n",
    "These three models predict future covid cases on a global level. These are constructed to use the latest window of data to predict the current trend. The start date for the prediction data is 10/1/2022 to the current date. \n",
    "\n",
    "The prediction models include \n",
    "* Support Vector Machine \n",
    "* Polynomial Regression \n",
    "* Bayesian Ridge Regression \n",
    "\n",
    "<a id='prediction'></a>"
   ]
  },
  {
   "cell_type": "code",
   "execution_count": null,
   "metadata": {
    "_kg_hide-input": true,
    "_kg_hide-output": false,
    "execution": {
     "iopub.execute_input": "2023-01-13T16:21:06.943924Z",
     "iopub.status.busy": "2023-01-13T16:21:06.943541Z",
     "iopub.status.idle": "2023-01-13T16:21:07.192894Z",
     "shell.execute_reply": "2023-01-13T16:21:07.192095Z",
     "shell.execute_reply.started": "2023-01-13T16:21:06.943889Z"
    },
    "trusted": true
   },
   "outputs": [],
   "source": [
    "plot_predictions(adjusted_dates, world_cases, svm_pred, 'SVM Predictions', 'purple')"
   ]
  },
  {
   "cell_type": "code",
   "execution_count": null,
   "metadata": {
    "_kg_hide-input": true,
    "execution": {
     "iopub.execute_input": "2023-01-13T16:21:00.774401Z",
     "iopub.status.busy": "2023-01-13T16:21:00.773854Z",
     "iopub.status.idle": "2023-01-13T16:21:01.027693Z",
     "shell.execute_reply": "2023-01-13T16:21:01.027072Z",
     "shell.execute_reply.started": "2023-01-13T16:21:00.774323Z"
    },
    "trusted": true
   },
   "outputs": [],
   "source": [
    "plot_predictions(adjusted_dates, world_cases, linear_pred, 'Polynomial Regression Predictions', 'orange')"
   ]
  },
  {
   "cell_type": "code",
   "execution_count": null,
   "metadata": {
    "_kg_hide-input": true,
    "_kg_hide-output": false,
    "execution": {
     "iopub.execute_input": "2023-01-13T16:21:10.660802Z",
     "iopub.status.busy": "2023-01-13T16:21:10.660486Z",
     "iopub.status.idle": "2023-01-13T16:21:10.911194Z",
     "shell.execute_reply": "2023-01-13T16:21:10.910323Z",
     "shell.execute_reply.started": "2023-01-13T16:21:10.660745Z"
    },
    "trusted": true
   },
   "outputs": [],
   "source": [
    "plot_predictions(adjusted_dates, world_cases, bayesian_pred, 'Bayesian Ridge Regression Predictions', 'green')"
   ]
  },
  {
   "cell_type": "code",
   "execution_count": null,
   "metadata": {
    "_kg_hide-input": true,
    "execution": {
     "iopub.execute_input": "2023-01-13T16:17:33.78062Z",
     "iopub.status.busy": "2023-01-13T16:17:33.780308Z",
     "iopub.status.idle": "2023-01-13T16:17:33.852922Z",
     "shell.execute_reply": "2023-01-13T16:17:33.851994Z",
     "shell.execute_reply.started": "2023-01-13T16:17:33.780567Z"
    },
    "trusted": true
   },
   "outputs": [],
   "source": [
    "# Future predictions using SVM \n",
    "svm_df = pd.DataFrame({'Date': future_forcast_dates[-10:], 'SVM Predicted # of Confirmed Cases Worldwide': np.round(svm_pred[-10:])})\n",
    "svm_df.style.background_gradient(cmap='Reds')"
   ]
  },
  {
   "cell_type": "code",
   "execution_count": null,
   "metadata": {
    "_kg_hide-input": true,
    "execution": {
     "iopub.execute_input": "2023-01-13T16:17:33.854479Z",
     "iopub.status.busy": "2023-01-13T16:17:33.854183Z",
     "iopub.status.idle": "2023-01-13T16:17:33.878454Z",
     "shell.execute_reply": "2023-01-13T16:17:33.877081Z",
     "shell.execute_reply.started": "2023-01-13T16:17:33.854427Z"
    },
    "trusted": true
   },
   "outputs": [],
   "source": [
    "# Future predictions using polynomial regression\n",
    "linear_pred = linear_pred.reshape(1,-1)[0]\n",
    "linear_df = pd.DataFrame({'Date': future_forcast_dates[-10:], 'Polynomial Predicted # of Confirmed Cases Worldwide': np.round(linear_pred[-10:])})\n",
    "linear_df.style.background_gradient(cmap='Reds')"
   ]
  },
  {
   "cell_type": "code",
   "execution_count": null,
   "metadata": {
    "_kg_hide-input": true,
    "_kg_hide-output": false,
    "execution": {
     "iopub.execute_input": "2023-01-13T16:17:33.880705Z",
     "iopub.status.busy": "2023-01-13T16:17:33.880401Z",
     "iopub.status.idle": "2023-01-13T16:17:33.908007Z",
     "shell.execute_reply": "2023-01-13T16:17:33.906195Z",
     "shell.execute_reply.started": "2023-01-13T16:17:33.880654Z"
    },
    "trusted": true
   },
   "outputs": [],
   "source": [
    "# Future predictions using Bayesian Ridge \n",
    "bayesian_df = pd.DataFrame({'Date': future_forcast_dates[-10:], 'Bayesian Ridge Predicted # of Confirmed Cases Worldwide': np.round(bayesian_pred[-10:])})\n",
    "bayesian_df.style.background_gradient(cmap='Reds')"
   ]
  },
  {
   "cell_type": "markdown",
   "metadata": {},
   "source": [
    "Mortality Rate (worldwide) **susceptible to change **"
   ]
  },
  {
   "cell_type": "code",
   "execution_count": null,
   "metadata": {
    "_kg_hide-input": true,
    "execution": {
     "iopub.execute_input": "2023-01-13T16:17:33.910096Z",
     "iopub.status.busy": "2023-01-13T16:17:33.909769Z",
     "iopub.status.idle": "2023-01-13T16:17:34.157076Z",
     "shell.execute_reply": "2023-01-13T16:17:34.156313Z",
     "shell.execute_reply.started": "2023-01-13T16:17:33.910036Z"
    },
    "trusted": true
   },
   "outputs": [],
   "source": [
    "mean_mortality_rate = np.mean(mortality_rate)\n",
    "plt.figure(figsize=(16, 10))\n",
    "plt.plot(adjusted_dates, mortality_rate, color='orange')\n",
    "plt.axhline(y = mean_mortality_rate,linestyle='--', color='black')\n",
    "plt.title('Worldwide Mortality Rate of Coronavirus Over Time', size=30)\n",
    "plt.xlabel('Days Since 1/22/2020', size=30)\n",
    "plt.ylabel('Case Mortality Rate', size=30)\n",
    "plt.xticks(size=20)\n",
    "plt.yticks(size=20)\n",
    "plt.show()"
   ]
  },
  {
   "cell_type": "code",
   "execution_count": null,
   "metadata": {
    "_kg_hide-input": true,
    "_kg_hide-output": true,
    "execution": {
     "iopub.execute_input": "2023-01-13T16:17:34.158868Z",
     "iopub.status.busy": "2023-01-13T16:17:34.158422Z",
     "iopub.status.idle": "2023-01-13T16:17:34.163962Z",
     "shell.execute_reply": "2023-01-13T16:17:34.163345Z",
     "shell.execute_reply.started": "2023-01-13T16:17:34.158822Z"
    },
    "trusted": true
   },
   "outputs": [],
   "source": [
    "unique_countries =  list(latest_data['Country_Region'].unique())"
   ]
  },
  {
   "cell_type": "code",
   "execution_count": null,
   "metadata": {
    "_kg_hide-input": true,
    "execution": {
     "iopub.execute_input": "2023-01-13T16:17:34.165686Z",
     "iopub.status.busy": "2023-01-13T16:17:34.165197Z",
     "iopub.status.idle": "2023-01-13T16:17:35.09668Z",
     "shell.execute_reply": "2023-01-13T16:17:35.09525Z",
     "shell.execute_reply.started": "2023-01-13T16:17:34.165638Z"
    },
    "trusted": true
   },
   "outputs": [],
   "source": [
    "country_confirmed_cases = []\n",
    "country_death_cases = [] \n",
    "country_active_cases = []\n",
    "country_incidence_rate = [] \n",
    "country_mortality_rate = [] \n",
    "\n",
    "no_cases = []\n",
    "for i in unique_countries:\n",
    "    cases = latest_data[latest_data['Country_Region']==i]['Confirmed'].sum()\n",
    "    if cases > 0:\n",
    "        country_confirmed_cases.append(cases)\n",
    "    else:\n",
    "        no_cases.append(i)\n",
    "        \n",
    "for i in no_cases:\n",
    "    unique_countries.remove(i)\n",
    "    \n",
    "# sort countries by the number of confirmed cases\n",
    "unique_countries = [k for k, v in sorted(zip(unique_countries, country_confirmed_cases), key=operator.itemgetter(1), reverse=True)]\n",
    "for i in range(len(unique_countries)):\n",
    "    country_confirmed_cases[i] = latest_data[latest_data['Country_Region']==unique_countries[i]]['Confirmed'].sum()\n",
    "    country_death_cases.append(latest_data[latest_data['Country_Region']==unique_countries[i]]['Deaths'].sum())\n",
    "    country_incidence_rate.append(latest_data[latest_data['Country_Region']==unique_countries[i]]['Incident_Rate'].sum())\n",
    "    country_mortality_rate.append(country_death_cases[i]/country_confirmed_cases[i])"
   ]
  },
  {
   "cell_type": "markdown",
   "metadata": {},
   "source": [
    "# Data table\n",
    "<a id='data_table'></a>\n",
    "This shows covid data for several countries. The table includes the number of confirmed cases, deaths, incidence rate, and mortality rate. "
   ]
  },
  {
   "cell_type": "code",
   "execution_count": null,
   "metadata": {
    "_kg_hide-input": true,
    "_kg_hide-output": false,
    "execution": {
     "iopub.execute_input": "2023-01-13T16:17:35.098965Z",
     "iopub.status.busy": "2023-01-13T16:17:35.098623Z",
     "iopub.status.idle": "2023-01-13T16:17:35.283782Z",
     "shell.execute_reply": "2023-01-13T16:17:35.282839Z",
     "shell.execute_reply.started": "2023-01-13T16:17:35.098902Z"
    },
    "trusted": true
   },
   "outputs": [],
   "source": [
    "country_df = pd.DataFrame({'Country Name': unique_countries, 'Number of Confirmed Cases': [format(int(i), ',d') for i in country_confirmed_cases],\n",
    "                          'Number of Deaths': [format(int(i), ',d') for i in country_death_cases], \n",
    "                          'Incidence Rate' : country_incidence_rate,\n",
    "                          'Mortality Rate': country_mortality_rate})\n",
    "# number of cases per country/region\n",
    "\n",
    "country_df.style.background_gradient(cmap='Oranges')"
   ]
  },
  {
   "cell_type": "code",
   "execution_count": null,
   "metadata": {
    "_kg_hide-input": true,
    "execution": {
     "iopub.execute_input": "2023-01-13T16:17:35.285224Z",
     "iopub.status.busy": "2023-01-13T16:17:35.284974Z",
     "iopub.status.idle": "2023-01-13T16:17:35.290599Z",
     "shell.execute_reply": "2023-01-13T16:17:35.289517Z",
     "shell.execute_reply.started": "2023-01-13T16:17:35.285176Z"
    },
    "trusted": true
   },
   "outputs": [],
   "source": [
    "unique_provinces =  list(latest_data['Province_State'].unique())"
   ]
  },
  {
   "cell_type": "markdown",
   "metadata": {},
   "source": [
    "Getting the latest information about **provinces/states** that have confirmed coronavirus cases"
   ]
  },
  {
   "cell_type": "code",
   "execution_count": null,
   "metadata": {
    "_kg_hide-input": true,
    "execution": {
     "iopub.execute_input": "2023-01-13T16:17:35.292225Z",
     "iopub.status.busy": "2023-01-13T16:17:35.291969Z",
     "iopub.status.idle": "2023-01-13T16:17:38.516567Z",
     "shell.execute_reply": "2023-01-13T16:17:38.515245Z",
     "shell.execute_reply.started": "2023-01-13T16:17:35.292179Z"
    },
    "trusted": true
   },
   "outputs": [],
   "source": [
    "province_confirmed_cases = []\n",
    "province_country = [] \n",
    "province_death_cases = [] \n",
    "province_incidence_rate = []\n",
    "province_mortality_rate = [] \n",
    "\n",
    "no_cases = [] \n",
    "for i in unique_provinces:\n",
    "    cases = latest_data[latest_data['Province_State']==i]['Confirmed'].sum()\n",
    "    if cases > 0:\n",
    "        province_confirmed_cases.append(cases)\n",
    "    else:\n",
    "        no_cases.append(i)\n",
    " \n",
    "# remove areas with no confirmed cases\n",
    "for i in no_cases:\n",
    "    unique_provinces.remove(i)\n",
    "    \n",
    "unique_provinces = [k for k, v in sorted(zip(unique_provinces, province_confirmed_cases), key=operator.itemgetter(1), reverse=True)]\n",
    "for i in range(len(unique_provinces)):\n",
    "    province_confirmed_cases[i] = latest_data[latest_data['Province_State']==unique_provinces[i]]['Confirmed'].sum()\n",
    "    province_country.append(latest_data[latest_data['Province_State']==unique_provinces[i]]['Country_Region'].unique()[0])\n",
    "    province_death_cases.append(latest_data[latest_data['Province_State']==unique_provinces[i]]['Deaths'].sum())\n",
    "#     province_recovery_cases.append(latest_data[latest_data['Province_State']==unique_provinces[i]]['Recovered'].sum())\n",
    "#     province_active.append(latest_data[latest_data['Province_State']==unique_provinces[i]]['Active'].sum())\n",
    "    province_incidence_rate.append(latest_data[latest_data['Province_State']==unique_provinces[i]]['Incident_Rate'].sum())\n",
    "    province_mortality_rate.append(province_death_cases[i]/province_confirmed_cases[i])"
   ]
  },
  {
   "cell_type": "code",
   "execution_count": null,
   "metadata": {
    "_kg_hide-input": true,
    "execution": {
     "iopub.execute_input": "2023-01-13T16:17:38.518027Z",
     "iopub.status.busy": "2023-01-13T16:17:38.5178Z",
     "iopub.status.idle": "2023-01-13T16:17:38.521631Z",
     "shell.execute_reply": "2023-01-13T16:17:38.520563Z",
     "shell.execute_reply.started": "2023-01-13T16:17:38.517981Z"
    },
    "trusted": true
   },
   "outputs": [],
   "source": [
    "# nan_indices = [] \n",
    "\n",
    "# # handle nan if there is any, it is usually a float: float('nan')\n",
    "\n",
    "# for i in range(len(unique_provinces)):\n",
    "#     if type(unique_provinces[i]) == float:\n",
    "#         nan_indices.append(i)\n",
    "\n",
    "# unique_provinces = list(unique_provinces)\n",
    "# province_confirmed_cases = list(province_confirmed_cases)\n",
    "\n",
    "# for i in nan_indices:\n",
    "#     unique_provinces.pop(i)\n",
    "#     province_confirmed_cases.pop(i)"
   ]
  },
  {
   "cell_type": "code",
   "execution_count": null,
   "metadata": {
    "_kg_hide-input": true,
    "execution": {
     "iopub.execute_input": "2023-01-13T16:17:38.523187Z",
     "iopub.status.busy": "2023-01-13T16:17:38.522878Z",
     "iopub.status.idle": "2023-01-13T16:17:38.62771Z",
     "shell.execute_reply": "2023-01-13T16:17:38.626411Z",
     "shell.execute_reply.started": "2023-01-13T16:17:38.523123Z"
    },
    "trusted": true
   },
   "outputs": [],
   "source": [
    "# number of cases per province/state/city top 100 \n",
    "province_limit = 100 \n",
    "province_df = pd.DataFrame({'Province/State Name': unique_provinces[:province_limit], 'Country': province_country[:province_limit], 'Number of Confirmed Cases': [format(int(i), ',d') for i in province_confirmed_cases[:province_limit]],\n",
    "                          'Number of Deaths': [format(int(i), ',d') for i in province_death_cases[:province_limit]], \n",
    "                        'Incidence Rate' : province_incidence_rate[:province_limit], 'Mortality Rate': province_mortality_rate[:province_limit]})\n",
    "# number of cases per country/region\n",
    "\n",
    "province_df.style.background_gradient(cmap='Oranges')"
   ]
  },
  {
   "cell_type": "code",
   "execution_count": null,
   "metadata": {
    "_kg_hide-input": true,
    "execution": {
     "iopub.execute_input": "2023-01-13T16:17:38.629252Z",
     "iopub.status.busy": "2023-01-13T16:17:38.628994Z",
     "iopub.status.idle": "2023-01-13T16:17:38.641037Z",
     "shell.execute_reply": "2023-01-13T16:17:38.639854Z",
     "shell.execute_reply.started": "2023-01-13T16:17:38.6292Z"
    },
    "trusted": true
   },
   "outputs": [],
   "source": [
    "# return the data table with province/state info for a given country\n",
    "def country_table(country_name):\n",
    "    states = list(latest_data[latest_data['Country_Region']==country_name]['Province_State'].unique())\n",
    "    state_confirmed_cases = []\n",
    "    state_death_cases = [] \n",
    "    # state_recovery_cases = []\n",
    "#     state_active = [] \n",
    "    state_incidence_rate = [] \n",
    "    state_mortality_rate = [] \n",
    "\n",
    "    no_cases = [] \n",
    "    for i in states:\n",
    "        cases = latest_data[latest_data['Province_State']==i]['Confirmed'].sum()\n",
    "        if cases > 0:\n",
    "            state_confirmed_cases.append(cases)\n",
    "        else:\n",
    "            no_cases.append(i)\n",
    "\n",
    "    # remove areas with no confirmed cases\n",
    "    for i in no_cases:\n",
    "        states.remove(i)\n",
    "\n",
    "    states = [k for k, v in sorted(zip(states, state_confirmed_cases), key=operator.itemgetter(1), reverse=True)]\n",
    "    for i in range(len(states)):\n",
    "        state_confirmed_cases[i] = latest_data[latest_data['Province_State']==states[i]]['Confirmed'].sum()\n",
    "        state_death_cases.append(latest_data[latest_data['Province_State']==states[i]]['Deaths'].sum())\n",
    "    #     state_recovery_cases.append(latest_data[latest_data['Province_State']==states[i]]['Recovered'].sum())\n",
    "#         state_active.append(latest_data[latest_data['Province_State']==states[i]]['Active'].sum())\n",
    "        state_incidence_rate.append(latest_data[latest_data['Province_State']==states[i]]['Incident_Rate'].sum())\n",
    "        state_mortality_rate.append(state_death_cases[i]/state_confirmed_cases[i])\n",
    "        \n",
    "      \n",
    "    state_df = pd.DataFrame({'State Name': states, 'Number of Confirmed Cases': [format(int(i), ',d') for i in state_confirmed_cases],\n",
    "                              'Number of Deaths': [format(int(i), ',d') for i in state_death_cases], \n",
    "                             'Incidence Rate' : state_incidence_rate, 'Mortality Rate': state_mortality_rate})\n",
    "    # number of cases per country/region\n",
    "    return state_df"
   ]
  },
  {
   "cell_type": "markdown",
   "metadata": {},
   "source": [
    "Data table for the **United States**"
   ]
  },
  {
   "cell_type": "code",
   "execution_count": null,
   "metadata": {
    "_kg_hide-input": true,
    "execution": {
     "iopub.execute_input": "2023-01-13T16:17:38.643616Z",
     "iopub.status.busy": "2023-01-13T16:17:38.643062Z",
     "iopub.status.idle": "2023-01-13T16:17:38.979849Z",
     "shell.execute_reply": "2023-01-13T16:17:38.978706Z",
     "shell.execute_reply.started": "2023-01-13T16:17:38.643529Z"
    },
    "trusted": true
   },
   "outputs": [],
   "source": [
    "us_table = country_table('US')\n",
    "us_table.style.background_gradient(cmap='Oranges')"
   ]
  },
  {
   "cell_type": "markdown",
   "metadata": {},
   "source": [
    "Data table for **India**"
   ]
  },
  {
   "cell_type": "code",
   "execution_count": null,
   "metadata": {
    "_kg_hide-input": true,
    "execution": {
     "iopub.execute_input": "2023-01-13T16:17:38.981342Z",
     "iopub.status.busy": "2023-01-13T16:17:38.98099Z",
     "iopub.status.idle": "2023-01-13T16:17:39.19644Z",
     "shell.execute_reply": "2023-01-13T16:17:39.195234Z",
     "shell.execute_reply.started": "2023-01-13T16:17:38.981302Z"
    },
    "trusted": true
   },
   "outputs": [],
   "source": [
    "india_table = country_table('India')\n",
    "india_table.style.background_gradient(cmap='Oranges')"
   ]
  },
  {
   "cell_type": "markdown",
   "metadata": {},
   "source": [
    "Data table for **Brazil**"
   ]
  },
  {
   "cell_type": "code",
   "execution_count": null,
   "metadata": {
    "_kg_hide-input": true,
    "execution": {
     "iopub.execute_input": "2023-01-13T16:17:39.198004Z",
     "iopub.status.busy": "2023-01-13T16:17:39.197755Z",
     "iopub.status.idle": "2023-01-13T16:17:39.36101Z",
     "shell.execute_reply": "2023-01-13T16:17:39.359741Z",
     "shell.execute_reply.started": "2023-01-13T16:17:39.197963Z"
    },
    "trusted": true
   },
   "outputs": [],
   "source": [
    "brazil_table = country_table('Brazil')\n",
    "brazil_table.style.background_gradient(cmap='Oranges')"
   ]
  },
  {
   "cell_type": "markdown",
   "metadata": {},
   "source": [
    "Data table for **Russia**"
   ]
  },
  {
   "cell_type": "code",
   "execution_count": null,
   "metadata": {
    "_kg_hide-input": true,
    "execution": {
     "iopub.execute_input": "2023-01-13T16:17:39.362692Z",
     "iopub.status.busy": "2023-01-13T16:17:39.362427Z",
     "iopub.status.idle": "2023-01-13T16:17:39.837878Z",
     "shell.execute_reply": "2023-01-13T16:17:39.836435Z",
     "shell.execute_reply.started": "2023-01-13T16:17:39.362643Z"
    },
    "trusted": true
   },
   "outputs": [],
   "source": [
    "russia_table = country_table('Russia')\n",
    "russia_table.style.background_gradient(cmap='Oranges')"
   ]
  },
  {
   "cell_type": "markdown",
   "metadata": {},
   "source": [
    "Data table for **United Kingdom**"
   ]
  },
  {
   "cell_type": "code",
   "execution_count": null,
   "metadata": {
    "_kg_hide-input": true,
    "execution": {
     "iopub.execute_input": "2023-01-13T16:17:39.839821Z",
     "iopub.status.busy": "2023-01-13T16:17:39.839486Z",
     "iopub.status.idle": "2023-01-13T16:17:39.96284Z",
     "shell.execute_reply": "2023-01-13T16:17:39.961547Z",
     "shell.execute_reply.started": "2023-01-13T16:17:39.83976Z"
    },
    "trusted": true
   },
   "outputs": [],
   "source": [
    "uk_table = country_table('United Kingdom')\n",
    "uk_table.style.background_gradient(cmap='Oranges')"
   ]
  },
  {
   "cell_type": "markdown",
   "metadata": {},
   "source": [
    "Data table for **France**"
   ]
  },
  {
   "cell_type": "code",
   "execution_count": null,
   "metadata": {
    "_kg_hide-input": true,
    "execution": {
     "iopub.execute_input": "2023-01-13T16:17:39.964758Z",
     "iopub.status.busy": "2023-01-13T16:17:39.964477Z",
     "iopub.status.idle": "2023-01-13T16:17:40.046642Z",
     "shell.execute_reply": "2023-01-13T16:17:40.045047Z",
     "shell.execute_reply.started": "2023-01-13T16:17:39.964703Z"
    },
    "trusted": true
   },
   "outputs": [],
   "source": [
    "france_table = country_table('France')\n",
    "france_table.style.background_gradient(cmap='Oranges')"
   ]
  },
  {
   "cell_type": "markdown",
   "metadata": {},
   "source": [
    "Data table for **Italy**"
   ]
  },
  {
   "cell_type": "code",
   "execution_count": null,
   "metadata": {
    "_kg_hide-input": true,
    "execution": {
     "iopub.execute_input": "2023-01-13T16:17:40.048288Z",
     "iopub.status.busy": "2023-01-13T16:17:40.047985Z",
     "iopub.status.idle": "2023-01-13T16:17:40.199276Z",
     "shell.execute_reply": "2023-01-13T16:17:40.197739Z",
     "shell.execute_reply.started": "2023-01-13T16:17:40.048216Z"
    },
    "trusted": true
   },
   "outputs": [],
   "source": [
    "italy_table = country_table('Italy')\n",
    "italy_table.style.background_gradient(cmap='Oranges')"
   ]
  },
  {
   "cell_type": "markdown",
   "metadata": {},
   "source": [
    "Data table for **Germany**"
   ]
  },
  {
   "cell_type": "code",
   "execution_count": null,
   "metadata": {
    "_kg_hide-input": true,
    "execution": {
     "iopub.execute_input": "2023-01-13T16:17:40.202007Z",
     "iopub.status.busy": "2023-01-13T16:17:40.201666Z",
     "iopub.status.idle": "2023-01-13T16:17:40.318824Z",
     "shell.execute_reply": "2023-01-13T16:17:40.317481Z",
     "shell.execute_reply.started": "2023-01-13T16:17:40.201946Z"
    },
    "trusted": true
   },
   "outputs": [],
   "source": [
    "germany_table = country_table('Germany')\n",
    "germany_table.style.background_gradient(cmap='Oranges')"
   ]
  },
  {
   "cell_type": "markdown",
   "metadata": {},
   "source": [
    "Data table for **Spain**"
   ]
  },
  {
   "cell_type": "code",
   "execution_count": null,
   "metadata": {
    "_kg_hide-input": true,
    "execution": {
     "iopub.execute_input": "2023-01-13T16:17:40.322309Z",
     "iopub.status.busy": "2023-01-13T16:17:40.32203Z",
     "iopub.status.idle": "2023-01-13T16:17:40.455177Z",
     "shell.execute_reply": "2023-01-13T16:17:40.453807Z",
     "shell.execute_reply.started": "2023-01-13T16:17:40.322251Z"
    },
    "trusted": true
   },
   "outputs": [],
   "source": [
    "spain_table = country_table('Spain')\n",
    "spain_table.style.background_gradient(cmap='Oranges')"
   ]
  },
  {
   "cell_type": "markdown",
   "metadata": {},
   "source": [
    "Data table for **China**"
   ]
  },
  {
   "cell_type": "code",
   "execution_count": null,
   "metadata": {
    "_kg_hide-input": true,
    "execution": {
     "iopub.execute_input": "2023-01-13T16:17:40.457018Z",
     "iopub.status.busy": "2023-01-13T16:17:40.456676Z",
     "iopub.status.idle": "2023-01-13T16:17:40.670262Z",
     "shell.execute_reply": "2023-01-13T16:17:40.668881Z",
     "shell.execute_reply.started": "2023-01-13T16:17:40.456946Z"
    },
    "trusted": true
   },
   "outputs": [],
   "source": [
    "china_table = country_table('China')\n",
    "china_table.style.background_gradient(cmap='Oranges')"
   ]
  },
  {
   "cell_type": "markdown",
   "metadata": {},
   "source": [
    "Data table for **Mexico**"
   ]
  },
  {
   "cell_type": "code",
   "execution_count": null,
   "metadata": {
    "_kg_hide-input": true,
    "execution": {
     "iopub.execute_input": "2023-01-13T16:17:40.672836Z",
     "iopub.status.busy": "2023-01-13T16:17:40.672341Z",
     "iopub.status.idle": "2023-01-13T16:17:40.872527Z",
     "shell.execute_reply": "2023-01-13T16:17:40.87167Z",
     "shell.execute_reply.started": "2023-01-13T16:17:40.672718Z"
    },
    "trusted": true
   },
   "outputs": [],
   "source": [
    "mexico_table = country_table('Mexico')\n",
    "mexico_table.style.background_gradient(cmap='Oranges')"
   ]
  },
  {
   "cell_type": "markdown",
   "metadata": {},
   "source": [
    "<a id='bar_charts'></a>\n",
    "# Bar Chart Visualizations for COVID-19\n",
    "This offers us some insights for how different countries/regions compare in terms of covid cases."
   ]
  },
  {
   "cell_type": "code",
   "execution_count": null,
   "metadata": {
    "_kg_hide-input": true,
    "execution": {
     "iopub.execute_input": "2023-01-13T16:17:40.87377Z",
     "iopub.status.busy": "2023-01-13T16:17:40.873485Z",
     "iopub.status.idle": "2023-01-13T16:17:41.316541Z",
     "shell.execute_reply": "2023-01-13T16:17:41.315843Z",
     "shell.execute_reply.started": "2023-01-13T16:17:40.87374Z"
    },
    "trusted": true
   },
   "outputs": [],
   "source": [
    "total_world_cases = np.sum(country_confirmed_cases)\n",
    "us_confirmed = latest_data[latest_data['Country_Region']=='US']['Confirmed'].sum()\n",
    "outside_us_confirmed = total_world_cases - us_confirmed\n",
    "\n",
    "plt.figure(figsize=(16, 9))\n",
    "plt.barh('United States', us_confirmed)\n",
    "plt.barh('Outside United States', outside_us_confirmed)\n",
    "plt.title('# of Total Coronavirus Confirmed Cases', size=20)\n",
    "plt.xticks(size=20)\n",
    "plt.yticks(size=20)\n",
    "plt.show()\n",
    "\n",
    "\n",
    "plt.figure(figsize=(16, 9))\n",
    "plt.barh('United States', us_confirmed/total_world_cases)\n",
    "plt.barh('Outside United States', outside_us_confirmed/total_world_cases)\n",
    "plt.title('# of Coronavirus Confirmed Cases Expressed in Percentage', size=20)\n",
    "plt.xticks(size=20)\n",
    "plt.yticks(size=20)\n",
    "plt.show()"
   ]
  },
  {
   "cell_type": "code",
   "execution_count": null,
   "metadata": {
    "_kg_hide-input": true,
    "execution": {
     "iopub.execute_input": "2023-01-13T16:17:41.318074Z",
     "iopub.status.busy": "2023-01-13T16:17:41.3177Z",
     "iopub.status.idle": "2023-01-13T16:17:41.325462Z",
     "shell.execute_reply": "2023-01-13T16:17:41.324407Z",
     "shell.execute_reply.started": "2023-01-13T16:17:41.318026Z"
    },
    "trusted": true
   },
   "outputs": [],
   "source": [
    "print('Outside United States {} cases ({}%):'.format(outside_us_confirmed, np.round((outside_us_confirmed/total_world_cases)*100, 1)))\n",
    "print('United States {} cases ({}%)'.format(us_confirmed, np.round((us_confirmed/total_world_cases)*100, 1)))\n",
    "print('Total: {} cases'.format(total_world_cases))"
   ]
  },
  {
   "cell_type": "code",
   "execution_count": null,
   "metadata": {
    "_kg_hide-input": true,
    "_kg_hide-output": true,
    "execution": {
     "iopub.execute_input": "2023-01-13T16:17:41.327125Z",
     "iopub.status.busy": "2023-01-13T16:17:41.326846Z",
     "iopub.status.idle": "2023-01-13T16:17:41.341958Z",
     "shell.execute_reply": "2023-01-13T16:17:41.340346Z",
     "shell.execute_reply.started": "2023-01-13T16:17:41.327076Z"
    },
    "trusted": true
   },
   "outputs": [],
   "source": [
    "# Only show 10 countries with the most confirmed cases, the rest are grouped into the other category\n",
    "visual_unique_countries = [] \n",
    "visual_confirmed_cases = []\n",
    "others = np.sum(country_confirmed_cases[10:])\n",
    "\n",
    "for i in range(len(country_confirmed_cases[:10])):\n",
    "    visual_unique_countries.append(unique_countries[i])\n",
    "    visual_confirmed_cases.append(country_confirmed_cases[i])\n",
    "    \n",
    "visual_unique_countries.append('Others')\n",
    "visual_confirmed_cases.append(others)"
   ]
  },
  {
   "cell_type": "code",
   "execution_count": null,
   "metadata": {
    "_kg_hide-input": true,
    "_kg_hide-output": true,
    "execution": {
     "iopub.execute_input": "2023-01-13T16:17:41.343843Z",
     "iopub.status.busy": "2023-01-13T16:17:41.343514Z",
     "iopub.status.idle": "2023-01-13T16:17:41.360722Z",
     "shell.execute_reply": "2023-01-13T16:17:41.359976Z",
     "shell.execute_reply.started": "2023-01-13T16:17:41.343776Z"
    },
    "trusted": true
   },
   "outputs": [],
   "source": [
    "def plot_bar_graphs(x, y, title):\n",
    "    plt.figure(figsize=(16, 12))\n",
    "    plt.barh(x, y)\n",
    "    plt.title(title, size=20)\n",
    "    plt.xticks(size=20)\n",
    "    plt.yticks(size=20)\n",
    "    plt.show()\n",
    "    \n",
    "# good for a lot x values \n",
    "def plot_bar_graphs_tall(x, y, title):\n",
    "    plt.figure(figsize=(19, 18))\n",
    "    plt.barh(x, y)\n",
    "    plt.title(title, size=25)\n",
    "    plt.xticks(size=25)\n",
    "    plt.yticks(size=25)\n",
    "    plt.show()"
   ]
  },
  {
   "cell_type": "code",
   "execution_count": null,
   "metadata": {
    "_kg_hide-input": true,
    "execution": {
     "iopub.execute_input": "2023-01-13T16:17:41.362141Z",
     "iopub.status.busy": "2023-01-13T16:17:41.361781Z",
     "iopub.status.idle": "2023-01-13T16:17:41.672901Z",
     "shell.execute_reply": "2023-01-13T16:17:41.672178Z",
     "shell.execute_reply.started": "2023-01-13T16:17:41.362101Z"
    },
    "trusted": true
   },
   "outputs": [],
   "source": [
    "plot_bar_graphs(visual_unique_countries, visual_confirmed_cases, '# of Covid-19 Confirmed Cases in Countries/Regions')"
   ]
  },
  {
   "cell_type": "code",
   "execution_count": null,
   "metadata": {
    "_kg_hide-input": true,
    "_kg_hide-output": false,
    "execution": {
     "iopub.execute_input": "2023-01-13T16:17:41.674462Z",
     "iopub.status.busy": "2023-01-13T16:17:41.674072Z",
     "iopub.status.idle": "2023-01-13T16:17:41.987057Z",
     "shell.execute_reply": "2023-01-13T16:17:41.986478Z",
     "shell.execute_reply.started": "2023-01-13T16:17:41.674418Z"
    },
    "trusted": true
   },
   "outputs": [],
   "source": [
    "log_country_confirmed_cases = [math.log10(i) for i in visual_confirmed_cases]\n",
    "plot_bar_graphs(visual_unique_countries, log_country_confirmed_cases, 'Common Log # of Coronavirus Confirmed Cases in Countries/Regions')"
   ]
  },
  {
   "cell_type": "code",
   "execution_count": null,
   "metadata": {
    "_kg_hide-input": true,
    "_kg_hide-output": true,
    "execution": {
     "iopub.execute_input": "2023-01-13T16:17:41.988444Z",
     "iopub.status.busy": "2023-01-13T16:17:41.988096Z",
     "iopub.status.idle": "2023-01-13T16:17:41.996413Z",
     "shell.execute_reply": "2023-01-13T16:17:41.995082Z",
     "shell.execute_reply.started": "2023-01-13T16:17:41.988407Z"
    },
    "trusted": true
   },
   "outputs": [],
   "source": [
    "# Only show 10 provinces with the most confirmed cases, the rest are grouped into the other category\n",
    "visual_unique_provinces = [] \n",
    "visual_confirmed_cases2 = []\n",
    "others = np.sum(province_confirmed_cases[10:])\n",
    "for i in range(len(province_confirmed_cases[:10])):\n",
    "    visual_unique_provinces.append(unique_provinces[i])\n",
    "    visual_confirmed_cases2.append(province_confirmed_cases[i])\n",
    "\n",
    "visual_unique_provinces.append('Others')\n",
    "visual_confirmed_cases2.append(others)"
   ]
  },
  {
   "cell_type": "code",
   "execution_count": null,
   "metadata": {
    "_kg_hide-input": true,
    "execution": {
     "iopub.execute_input": "2023-01-13T16:17:41.997998Z",
     "iopub.status.busy": "2023-01-13T16:17:41.997731Z",
     "iopub.status.idle": "2023-01-13T16:17:42.31253Z",
     "shell.execute_reply": "2023-01-13T16:17:42.311544Z",
     "shell.execute_reply.started": "2023-01-13T16:17:41.997959Z"
    },
    "trusted": true
   },
   "outputs": [],
   "source": [
    "plot_bar_graphs(visual_unique_provinces, visual_confirmed_cases2, '# of Coronavirus Confirmed Cases in Provinces/States')"
   ]
  },
  {
   "cell_type": "code",
   "execution_count": null,
   "metadata": {
    "_kg_hide-input": true,
    "_kg_hide-output": false,
    "execution": {
     "iopub.execute_input": "2023-01-13T16:17:42.314394Z",
     "iopub.status.busy": "2023-01-13T16:17:42.313936Z",
     "iopub.status.idle": "2023-01-13T16:17:42.624914Z",
     "shell.execute_reply": "2023-01-13T16:17:42.624199Z",
     "shell.execute_reply.started": "2023-01-13T16:17:42.314309Z"
    },
    "trusted": true
   },
   "outputs": [],
   "source": [
    "log_province_confirmed_cases = [math.log10(i) for i in visual_confirmed_cases2]\n",
    "plot_bar_graphs(visual_unique_provinces, log_province_confirmed_cases, 'Log of # of Coronavirus Confirmed Cases in Provinces/States')"
   ]
  },
  {
   "cell_type": "markdown",
   "metadata": {},
   "source": [
    "<a id='pie_charts'></a>\n",
    "# Pie Chart Visualizations for COVID-19\n",
    "Although pie charts are not necessarily the most informative visualizations, I added them to increase some variety for the visualizations. "
   ]
  },
  {
   "cell_type": "code",
   "execution_count": null,
   "metadata": {
    "_kg_hide-input": true,
    "_kg_hide-output": true,
    "execution": {
     "iopub.execute_input": "2023-01-13T16:17:42.626599Z",
     "iopub.status.busy": "2023-01-13T16:17:42.62618Z",
     "iopub.status.idle": "2023-01-13T16:17:42.632718Z",
     "shell.execute_reply": "2023-01-13T16:17:42.632044Z",
     "shell.execute_reply.started": "2023-01-13T16:17:42.626547Z"
    },
    "trusted": true
   },
   "outputs": [],
   "source": [
    "def plot_pie_charts(x, y, title):\n",
    "    # more muted color \n",
    "    c = ['lightcoral', 'rosybrown', 'sandybrown', 'navajowhite', 'gold',\n",
    "        'khaki', 'lightskyblue', 'turquoise', 'lightslategrey', 'thistle', 'pink']\n",
    "    plt.figure(figsize=(20,15))\n",
    "    plt.title(title, size=20)\n",
    "    plt.pie(y, colors=c,shadow=True)\n",
    "    plt.legend(x, loc='best', fontsize=12)\n",
    "    plt.show()"
   ]
  },
  {
   "cell_type": "code",
   "execution_count": null,
   "metadata": {
    "_kg_hide-input": true,
    "execution": {
     "iopub.execute_input": "2023-01-13T16:17:42.634553Z",
     "iopub.status.busy": "2023-01-13T16:17:42.63427Z",
     "iopub.status.idle": "2023-01-13T16:17:42.966849Z",
     "shell.execute_reply": "2023-01-13T16:17:42.965886Z",
     "shell.execute_reply.started": "2023-01-13T16:17:42.634505Z"
    },
    "trusted": true
   },
   "outputs": [],
   "source": [
    "plot_pie_charts(visual_unique_countries, visual_confirmed_cases, 'Covid-19 Confirmed Cases per Country')"
   ]
  },
  {
   "cell_type": "code",
   "execution_count": null,
   "metadata": {
    "_kg_hide-input": true,
    "execution": {
     "iopub.execute_input": "2023-01-13T16:17:42.968704Z",
     "iopub.status.busy": "2023-01-13T16:17:42.968259Z",
     "iopub.status.idle": "2023-01-13T16:17:43.414234Z",
     "shell.execute_reply": "2023-01-13T16:17:43.413612Z",
     "shell.execute_reply.started": "2023-01-13T16:17:42.968661Z"
    },
    "trusted": true
   },
   "outputs": [],
   "source": [
    "plot_pie_charts(visual_unique_provinces, visual_confirmed_cases2, 'Covid-19 Confirmed Cases per State/Province/Region')"
   ]
  },
  {
   "cell_type": "code",
   "execution_count": null,
   "metadata": {
    "_kg_hide-input": true,
    "_kg_hide-output": true,
    "execution": {
     "iopub.execute_input": "2023-01-13T16:17:43.415892Z",
     "iopub.status.busy": "2023-01-13T16:17:43.415483Z",
     "iopub.status.idle": "2023-01-13T16:17:43.426102Z",
     "shell.execute_reply": "2023-01-13T16:17:43.425427Z",
     "shell.execute_reply.started": "2023-01-13T16:17:43.415851Z"
    },
    "trusted": true
   },
   "outputs": [],
   "source": [
    "# Plotting countries with regional data using a pie chart \n",
    "\n",
    "def plot_pie_country_with_regions(country_name, title):\n",
    "    regions = list(latest_data[latest_data['Country_Region']==country_name]['Province_State'].unique())\n",
    "    confirmed_cases = []\n",
    "    no_cases = [] \n",
    "    for i in regions:\n",
    "        cases = latest_data[latest_data['Province_State']==i]['Confirmed'].sum()\n",
    "        if cases > 0:\n",
    "            confirmed_cases.append(cases)\n",
    "        else:\n",
    "            no_cases.append(i)\n",
    "\n",
    "    # remove areas with no confirmed cases\n",
    "    for i in no_cases:\n",
    "        regions.remove(i)\n",
    "\n",
    "    # only show the top 5 states\n",
    "    regions = [k for k, v in sorted(zip(regions, confirmed_cases), key=operator.itemgetter(1), reverse=True)]\n",
    "\n",
    "    for i in range(len(regions)):\n",
    "        confirmed_cases[i] = latest_data[latest_data['Province_State']==regions[i]]['Confirmed'].sum()  \n",
    "    \n",
    "    # additional province/state will be considered \"others\"\n",
    "    \n",
    "    if(len(regions)>5):\n",
    "        regions_5 = regions[:5]\n",
    "        regions_5.append('Others')\n",
    "        confirmed_cases_5 = confirmed_cases[:5]\n",
    "        confirmed_cases_5.append(np.sum(confirmed_cases[5:]))\n",
    "        plot_pie_charts(regions_5,confirmed_cases_5, title)\n",
    "    else:\n",
    "        plot_pie_charts(regions,confirmed_cases, title)"
   ]
  },
  {
   "cell_type": "code",
   "execution_count": null,
   "metadata": {
    "_kg_hide-input": true,
    "execution": {
     "iopub.execute_input": "2023-01-13T16:17:43.42775Z",
     "iopub.status.busy": "2023-01-13T16:17:43.427287Z",
     "iopub.status.idle": "2023-01-13T16:17:46.248582Z",
     "shell.execute_reply": "2023-01-13T16:17:46.247965Z",
     "shell.execute_reply.started": "2023-01-13T16:17:43.427676Z"
    },
    "trusted": true
   },
   "outputs": [],
   "source": [
    "pie_chart_countries = ['US', 'Brazil', 'Russia', 'India', 'United Kingdom', 'Italy', 'Germany', 'France']\n",
    "\n",
    "for i in pie_chart_countries:\n",
    "    plot_pie_country_with_regions(i, 'Covid-19 Confirmed Cases in {}'.format(i))"
   ]
  }
 ],
 "metadata": {
  "kaggle": {
   "accelerator": "none",
   "dataSources": [],
   "dockerImageVersionId": 29849,
   "isGpuEnabled": false,
   "isInternetEnabled": false,
   "language": "python",
   "sourceType": "notebook"
  },
  "kernelspec": {
   "display_name": "Python 3",
   "language": "python",
   "name": "python3"
  },
  "language_info": {
   "codemirror_mode": {
    "name": "ipython",
    "version": 3
   },
   "file_extension": ".py",
   "mimetype": "text/x-python",
   "name": "python",
   "nbconvert_exporter": "python",
   "pygments_lexer": "ipython3",
   "version": "3.6.4"
  }
 },
 "nbformat": 4,
 "nbformat_minor": 4
}
